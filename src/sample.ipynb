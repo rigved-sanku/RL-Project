{
 "cells": [
  {
   "cell_type": "code",
   "execution_count": 1,
   "metadata": {},
   "outputs": [],
   "source": [
    "import sys\n",
    "sys.path.append('./simulator')\n",
    "\n",
    "# How to run this file. From the folder containing sample.py, run python sample.py in terminal. install the required depenedencies such as scipy numpy pyquaternion\n",
    "\n",
    "from env import Env\n",
    "import numpy as np\n",
    "import time\n"
   ]
  },
  {
   "cell_type": "code",
   "execution_count": 2,
   "metadata": {},
   "outputs": [
    {
     "name": "stdout",
     "output_type": "stream",
     "text": [
      "0.23539495468139648\n"
     ]
    }
   ],
   "source": [
    "\n",
    "# The environment is simple threadsafe python object\n",
    "env = Env()\n",
    "env.reset()\n",
    "np.set_printoptions(suppress=True, precision=3, linewidth=200)\n",
    "\n",
    "done = False\n",
    "startTime = time.time()\n",
    "observations_list = []\n",
    "while not done:\n",
    "    u = np.array([0.01, 0.0, 0.0, 1])\n",
    "    observations, reward, done, simtime = env.step(u)\n",
    "    observations_list.append(observations)\n",
    "    # print(observations)\n",
    "    # print(reward)\n",
    "    # print(done)\n",
    "print(time.time() - startTime)"
   ]
  },
  {
   "cell_type": "code",
   "execution_count": 4,
   "metadata": {},
   "outputs": [
    {
     "name": "stdout",
     "output_type": "stream",
     "text": [
      "(17,)\n"
     ]
    }
   ],
   "source": [
    "print(observations_list[0].shape)"
   ]
  }
 ],
 "metadata": {
  "kernelspec": {
   "display_name": "rl_project4",
   "language": "python",
   "name": "python3"
  },
  "language_info": {
   "codemirror_mode": {
    "name": "ipython",
    "version": 3
   },
   "file_extension": ".py",
   "mimetype": "text/x-python",
   "name": "python",
   "nbconvert_exporter": "python",
   "pygments_lexer": "ipython3",
   "version": "3.8.18"
  }
 },
 "nbformat": 4,
 "nbformat_minor": 2
}
